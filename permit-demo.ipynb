{
 "cells": [
  {
   "cell_type": "code",
   "execution_count": 1,
   "id": "441aaa0c",
   "metadata": {},
   "outputs": [],
   "source": [
    "import pytezos as ptz\n",
    "from pytezos.contract.interface import ContractInterface\n",
    "from pytezos.michelson.types import MichelsonType\n",
    "from pytezos.crypto.encoding import base58_decode\n",
    "from pytezos.crypto.key import blake2b_32\n",
    "from pytezos import Key"
   ]
  },
  {
   "cell_type": "code",
   "execution_count": 2,
   "id": "0c834381",
   "metadata": {},
   "outputs": [],
   "source": [
    "import requests\n",
    "import json"
   ]
  },
  {
   "cell_type": "markdown",
   "id": "f4006614",
   "metadata": {},
   "source": [
    "We're using https://packages.ligolang.org/contract/Permit-Cameligo which itself extends `ligo-extendable-fa2` to add a Permit implementation."
   ]
  },
  {
   "cell_type": "code",
   "execution_count": 3,
   "id": "0e30fbaa",
   "metadata": {},
   "outputs": [],
   "source": [
    "!ligo compile contract permit-cameligo/src/main.mligo > permit-contract.tz"
   ]
  },
  {
   "cell_type": "code",
   "execution_count": 6,
   "id": "511122bd",
   "metadata": {},
   "outputs": [],
   "source": [
    "!ligo compile contract staking-contract.mligo > staking-contract.tz"
   ]
  },
  {
   "cell_type": "markdown",
   "id": "1b4367cc",
   "metadata": {},
   "source": [
    "# Minting and staking a NFT"
   ]
  },
  {
   "cell_type": "markdown",
   "id": "467a470e",
   "metadata": {},
   "source": [
    "We're using a local network for this demo (typically using Flextesa), but this has been tested on Ghostnet as well. On Ghostnet, operations and balance changes seem to be correctly picked by the indexers, even for a non-revealed account."
   ]
  },
  {
   "cell_type": "code",
   "execution_count": 7,
   "id": "7dc12ded",
   "metadata": {},
   "outputs": [],
   "source": [
    "TEZOS_RPC = \"http://localhost:20000\""
   ]
  },
  {
   "cell_type": "markdown",
   "id": "f51f026c",
   "metadata": {},
   "source": [
    "Let's initialize two clients, one brand new (unrevealed) and one having a positive balance. The latter will play the API's role."
   ]
  },
  {
   "cell_type": "code",
   "execution_count": 8,
   "id": "6fc5e294",
   "metadata": {},
   "outputs": [],
   "source": [
    "bob_key = Key.generate()"
   ]
  },
  {
   "cell_type": "code",
   "execution_count": 9,
   "id": "85205f3a",
   "metadata": {},
   "outputs": [],
   "source": [
    "bob = ptz.pytezos.using(TEZOS_RPC, bob_key)"
   ]
  },
  {
   "cell_type": "code",
   "execution_count": 10,
   "id": "e822ccbd",
   "metadata": {},
   "outputs": [
    {
     "data": {
      "text/plain": [
       "Decimal('0.000000')"
      ]
     },
     "execution_count": 10,
     "metadata": {},
     "output_type": "execute_result"
    }
   ],
   "source": [
    "bob.balance()"
   ]
  },
  {
   "cell_type": "code",
   "execution_count": 14,
   "id": "b8c96ac8",
   "metadata": {},
   "outputs": [
    {
     "data": {
      "text/plain": [
       "'tz1VSUr8wwNhLAzempoch5d6hLRiTh8Cjcjb'"
      ]
     },
     "execution_count": 14,
     "metadata": {},
     "output_type": "execute_result"
    }
   ],
   "source": [
    "admin_key = Key.from_encoded_key(\"edsk3QoqBuvdamxouPhin7swCvkQNgq4jP5KZPbwWNnwdZpSpJiEbq\")\n",
    "admin_key.public_key_hash()"
   ]
  },
  {
   "cell_type": "code",
   "execution_count": 15,
   "id": "890dd741",
   "metadata": {},
   "outputs": [
    {
     "data": {
      "text/plain": [
       "Decimal('1800000.000000')"
      ]
     },
     "execution_count": 15,
     "metadata": {},
     "output_type": "execute_result"
    }
   ],
   "source": [
    "admin = ptz.pytezos.using(TEZOS_RPC, admin_key)\n",
    "admin.balance ()"
   ]
  },
  {
   "cell_type": "markdown",
   "id": "e6982b55",
   "metadata": {},
   "source": [
    "## Deploying a new FA2 test contract"
   ]
  },
  {
   "cell_type": "markdown",
   "id": "fd22df8c",
   "metadata": {},
   "source": [
    "We're deploying a NFT contract implementing FA2+Permit. Tokens can only be minted by the admin. Once they are minted, they behave like regular NFTs and can be transferred or sold by their owners.\n",
    "\n",
    "Moreover, users that don't have any tez or don't want to pay directly can sign an off-chain permit for a specific transfer. Other accounts can then store this permit in the contract and execute said transfer before the permit expires."
   ]
  },
  {
   "cell_type": "code",
   "execution_count": 16,
   "id": "35ea49c5",
   "metadata": {},
   "outputs": [],
   "source": [
    "fa2_contract = ContractInterface.from_file(\"permit-contract.tz\")"
   ]
  },
  {
   "cell_type": "markdown",
   "id": "456e21cf",
   "metadata": {},
   "source": [
    "## Setting the correct initial storage\n",
    "\n",
    "We need to configure a few things in the storage for the contract to be usable. We do this entirely from PyTezos instead of Ligo: first because PyTezos infers several values that we don't care about here, but also to make this notebook as self-contained as possible."
   ]
  },
  {
   "cell_type": "code",
   "execution_count": 17,
   "id": "e279c86a",
   "metadata": {},
   "outputs": [
    {
     "data": {
      "text/plain": [
       "{'extension': {'admin': 'KT18amZmM5W7qDWVt2pH6uj7sCEd3kbzLrHT',\n",
       "  'counter': 0,\n",
       "  'default_expiry': 0,\n",
       "  'extension': {},\n",
       "  'max_expiry': 0,\n",
       "  'permit_expiries': {},\n",
       "  'permits': {},\n",
       "  'user_expiries': {}},\n",
       " 'ledger': {},\n",
       " 'metadata': {},\n",
       " 'operators': {},\n",
       " 'token_metadata': {}}"
      ]
     },
     "execution_count": 17,
     "metadata": {},
     "output_type": "execute_result"
    }
   ],
   "source": [
    "fa2_initial_storage = fa2_contract.storage.dummy()\n",
    "fa2_initial_storage"
   ]
  },
  {
   "cell_type": "markdown",
   "id": "807dd0e9",
   "metadata": {},
   "source": [
    "This NFT contract requires to configure the tokens before origination. This is done by defining the `token_metadata` big map."
   ]
  },
  {
   "cell_type": "code",
   "execution_count": 18,
   "id": "d6bd2fd5",
   "metadata": {},
   "outputs": [],
   "source": [
    "def tezos_hex(s):\n",
    "    return f\"0x{bytes(s, 'utf-8').hex()}\"\n",
    "\n",
    "fa2_initial_storage[\"metadata\"] = {\n",
    "    \"\": tezos_hex(\"tezos-storage:m\"),\n",
    "    \"m\": json.dumps({\n",
    "        \"name\": \"Dummy token\",\n",
    "        \"interfaces\": [\"TZIP-12\"]\n",
    "    }).encode(\"utf-8\")\n",
    "}\n",
    "\n",
    "fa2_initial_storage[\"token_metadata\"] = {\n",
    "    0: {\"token_id\": 0, \n",
    "        \"token_info\": {\n",
    "            \"name\": tezos_hex(\"Dummy token 1\"),\n",
    "            \"symbol\": tezos_hex(\"DUMY\"),\n",
    "            \"decimals\": tezos_hex(\"0\"),\n",
    "            }\n",
    "    }\n",
    "}"
   ]
  },
  {
   "cell_type": "markdown",
   "id": "3bb461c5",
   "metadata": {},
   "source": [
    "This contract also requires to set the maximum supply as another big map (see `src/token_total_supply.mligo`):"
   ]
  },
  {
   "cell_type": "code",
   "execution_count": 20,
   "id": "84fdc14c",
   "metadata": {},
   "outputs": [],
   "source": [
    "fa2_initial_storage[\"extension\"][\"extension\"] = {\n",
    "    0: 0  # 0 token initially\n",
    "}"
   ]
  },
  {
   "cell_type": "markdown",
   "id": "b45c06bc",
   "metadata": {},
   "source": [
    "We set the admin's address so we can mint NFTs:"
   ]
  },
  {
   "cell_type": "code",
   "execution_count": 21,
   "id": "e7378fb7",
   "metadata": {},
   "outputs": [],
   "source": [
    "fa2_initial_storage[\"extension\"][\"admin\"] = admin_key.public_key_hash()"
   ]
  },
  {
   "cell_type": "markdown",
   "id": "a406c937",
   "metadata": {},
   "source": [
    "And finally we set the expiry delay for the permits: \n",
    "TODO: check that it makes sense"
   ]
  },
  {
   "cell_type": "code",
   "execution_count": 22,
   "id": "9e6a3884",
   "metadata": {},
   "outputs": [],
   "source": [
    "fa2_initial_storage[\"extension\"][\"max_expiry\"] = 3600\n",
    "fa2_initial_storage[\"extension\"][\"default_expiry\"] = 3600"
   ]
  },
  {
   "cell_type": "code",
   "execution_count": 23,
   "id": "4524d6c6",
   "metadata": {},
   "outputs": [],
   "source": [
    "orig = admin.origination(fa2_contract.script(initial_storage=fa2_initial_storage)).autofill().sign().inject(min_confirmations=1)"
   ]
  },
  {
   "cell_type": "code",
   "execution_count": 24,
   "id": "0958c5a7",
   "metadata": {},
   "outputs": [],
   "source": [
    "nft_contract_address = orig[\"contents\"][0][\"metadata\"][\"operation_result\"][\"originated_contracts\"][0]"
   ]
  },
  {
   "cell_type": "markdown",
   "id": "893d9e47",
   "metadata": {},
   "source": [
    "This is the contract from the admin point of view (PyTezos will call the contract with admin as the signer)."
   ]
  },
  {
   "cell_type": "code",
   "execution_count": 25,
   "id": "bdfe58e6",
   "metadata": {},
   "outputs": [
    {
     "data": {
      "text/plain": [
       "'tz1VSUr8wwNhLAzempoch5d6hLRiTh8Cjcjb'"
      ]
     },
     "execution_count": 25,
     "metadata": {},
     "output_type": "execute_result"
    }
   ],
   "source": [
    "nft_contract = admin.contract(nft_contract_address)\n",
    "nft_contract.key.public_key_hash()"
   ]
  },
  {
   "cell_type": "markdown",
   "id": "8f92444d",
   "metadata": {},
   "source": [
    "The same address is in the contract's storage:"
   ]
  },
  {
   "cell_type": "code",
   "execution_count": 26,
   "id": "320a6133",
   "metadata": {},
   "outputs": [
    {
     "data": {
      "text/plain": [
       "'tz1VSUr8wwNhLAzempoch5d6hLRiTh8Cjcjb'"
      ]
     },
     "execution_count": 26,
     "metadata": {},
     "output_type": "execute_result"
    }
   ],
   "source": [
    "nft_contract.storage()[\"extension\"][\"admin\"]"
   ]
  },
  {
   "cell_type": "markdown",
   "id": "513a38fb",
   "metadata": {},
   "source": [
    "## Minting a token for Bob"
   ]
  },
  {
   "cell_type": "markdown",
   "id": "0c682e64",
   "metadata": {},
   "source": [
    "This part is pretty standard: the admin mints a token for Bob, by using his address. Only the admin can do that, and this is typically something that we would put behind an API."
   ]
  },
  {
   "cell_type": "code",
   "execution_count": 27,
   "id": "8172454c",
   "metadata": {},
   "outputs": [],
   "source": [
    "_ = nft_contract.mint_token([{\n",
    "    \"owner\": bob.key.public_key_hash(),\n",
    "    \"token_id\": 0,\n",
    "    \"amount_\": 100\n",
    "}]).send(min_confirmations=1)"
   ]
  },
  {
   "cell_type": "markdown",
   "id": "f1a210ef",
   "metadata": {},
   "source": [
    "Bob now has 100 tokens:"
   ]
  },
  {
   "cell_type": "code",
   "execution_count": 28,
   "id": "3e9ba1da",
   "metadata": {},
   "outputs": [
    {
     "data": {
      "text/plain": [
       "100"
      ]
     },
     "execution_count": 28,
     "metadata": {},
     "output_type": "execute_result"
    }
   ],
   "source": [
    "nft_contract.storage[\"ledger\"][(bob.key.public_key_hash(), 0)]()"
   ]
  },
  {
   "cell_type": "markdown",
   "id": "d58efd60",
   "metadata": {},
   "source": [
    "## Staking the NFT using a permit"
   ]
  },
  {
   "cell_type": "markdown",
   "id": "ff6bf4fb",
   "metadata": {},
   "source": [
    "First let's deploy the staking contract, which does nothing except wait for a transfer of FA2s."
   ]
  },
  {
   "cell_type": "code",
   "execution_count": 29,
   "id": "ca8d52ec",
   "metadata": {},
   "outputs": [],
   "source": [
    "staking_contract = ContractInterface.from_file(\"staking-contract.tz\")\n",
    "staking_storage = staking_contract.storage.dummy()\n",
    "staking_storage[\"nft_address\"] = nft_contract.address"
   ]
  },
  {
   "cell_type": "code",
   "execution_count": 30,
   "id": "ee6fe676",
   "metadata": {},
   "outputs": [
    {
     "data": {
      "text/plain": [
       "'KT1DsegtTF7FyJesKvZ9utJ5FAsfM1f43xQu'"
      ]
     },
     "execution_count": 30,
     "metadata": {},
     "output_type": "execute_result"
    }
   ],
   "source": [
    "orig = admin.origination(\n",
    "    staking_contract.script(initial_storage=staking_storage)\n",
    ").autofill().sign().inject(min_confirmations=1)\n",
    "staking_address = orig[\"contents\"][0][\"metadata\"][\"operation_result\"][\"originated_contracts\"][0]\n",
    "staking_address"
   ]
  },
  {
   "cell_type": "code",
   "execution_count": 31,
   "id": "bd2f7f72",
   "metadata": {},
   "outputs": [],
   "source": [
    "staking_contract = admin.contract(staking_address)"
   ]
  },
  {
   "cell_type": "markdown",
   "id": "0d2172a3",
   "metadata": {},
   "source": [
    "This is where things start getting tricky:\n",
    "1. While Bob cannot post transactions directly, we can still create a Python object representing a transfer of 10 tokens to the staking contract.\n",
    "2. PyTezos can compute the Micheline type and expression for us, which we will then serialize using PACK and hash.\n",
    "3. Using this hash, we build the permit according to TZIP-17. A permit is made of two pairs. The former is the chain ID and the FA2 contract address, to prevent replay attacks. The latter is the permit counter and the hash of the transfer, which of course depends on the sender and the receiver.\n",
    "\n",
    "This is a bit involved; I've tried to delegate as much work to PyTezos as I could, but I still needed to write some Micheline expressions by hand. This is something we'd like to hide away in a library."
   ]
  },
  {
   "cell_type": "code",
   "execution_count": 32,
   "id": "df318fb1",
   "metadata": {},
   "outputs": [],
   "source": [
    "bob_nft_contract = bob.contract(nft_contract.address)"
   ]
  },
  {
   "cell_type": "markdown",
   "id": "b013bbc4",
   "metadata": {},
   "source": [
    "This is what a call to transfer would look like. If we send it, it fails, as bob has no tez."
   ]
  },
  {
   "cell_type": "code",
   "execution_count": 33,
   "id": "695847ca",
   "metadata": {},
   "outputs": [],
   "source": [
    "bob_transfer = bob_nft_contract.transfer([{\n",
    "    \"from_\": bob.key.public_key_hash(),\n",
    "    \"txs\": [{\n",
    "        \"to_\": staking_address,\n",
    "        \"token_id\": 0,\n",
    "        \"amount\": 10\n",
    "    }]\n",
    "}])"
   ]
  },
  {
   "cell_type": "markdown",
   "id": "a0aeabc5",
   "metadata": {},
   "source": [
    "Note that a call FA2 transfer expects a _list_ of transfers, and we're only interested in signing the permit for _one_ transfer. In the Micheline format, it would have the following form:"
   ]
  },
  {
   "cell_type": "code",
   "execution_count": 34,
   "id": "d489cbff",
   "metadata": {},
   "outputs": [
    {
     "data": {
      "text/plain": [
       "[{'string': 'tz1RMQ4Afx4ZsjKJT7H9y13WgXwAKUhdUdku'},\n",
       " [{'prim': 'Pair',\n",
       "   'args': [{'string': 'KT1DsegtTF7FyJesKvZ9utJ5FAsfM1f43xQu'},\n",
       "    {'int': '0'},\n",
       "    {'int': '10'}]}]]"
      ]
     },
     "execution_count": 34,
     "metadata": {},
     "output_type": "execute_result"
    }
   ],
   "source": [
    "bob_transfer.parameters[\"value\"][0][\"args\"]"
   ]
  },
  {
   "cell_type": "markdown",
   "id": "8384326a",
   "metadata": {},
   "source": [
    "So the type is the following:"
   ]
  },
  {
   "cell_type": "code",
   "execution_count": 35,
   "id": "c5737404",
   "metadata": {},
   "outputs": [
    {
     "data": {
      "text/plain": [
       "{'prim': 'pair',\n",
       " 'args': [{'prim': 'address', 'annots': ['%from_']},\n",
       "  {'prim': 'list',\n",
       "   'annots': ['%txs'],\n",
       "   'args': [{'prim': 'pair',\n",
       "     'args': [{'prim': 'address', 'annots': ['%to_']},\n",
       "      {'prim': 'pair',\n",
       "       'args': [{'prim': 'nat', 'annots': ['%token_id']},\n",
       "        {'prim': 'nat', 'annots': ['%amount']}]}]}]}]}"
      ]
     },
     "execution_count": 35,
     "metadata": {},
     "output_type": "execute_result"
    }
   ],
   "source": [
    "nft_contract.entrypoints[\"transfer\"].as_micheline_expr()[\"args\"][0]"
   ]
  },
  {
   "cell_type": "code",
   "execution_count": 36,
   "id": "2ea5e824",
   "metadata": {},
   "outputs": [
    {
     "data": {
      "text/plain": [
       "(tz1RMQ…dku * [(KT1Dse…xQu * (0 * 10))])"
      ]
     },
     "execution_count": 36,
     "metadata": {},
     "output_type": "execute_result"
    }
   ],
   "source": [
    "matcher = MichelsonType.match(nft_contract.entrypoints[\"transfer\"].as_micheline_expr()[\"args\"][0])\n",
    "micheline_encoded = matcher.from_micheline_value(bob_transfer.parameters[\"value\"][0][\"args\"])\n",
    "micheline_encoded"
   ]
  },
  {
   "cell_type": "markdown",
   "id": "97dc7c7e",
   "metadata": {},
   "source": [
    "TODO: this is very complicated. Maybe we could add a helper to the Permit contract (off-chain view?) and use it."
   ]
  },
  {
   "cell_type": "code",
   "execution_count": 37,
   "id": "0eeaaed6",
   "metadata": {},
   "outputs": [
    {
     "data": {
      "text/plain": [
       "'01daf816bbb41ad32bd70ba3bcbe492ddb2559af95c6530c819aa8b97a09e300'"
      ]
     },
     "execution_count": 37,
     "metadata": {},
     "output_type": "execute_result"
    }
   ],
   "source": [
    "transfer_hash = blake2b_32(micheline_encoded.pack()).hexdigest()\n",
    "transfer_hash"
   ]
  },
  {
   "cell_type": "markdown",
   "id": "2c3cdc93",
   "metadata": {},
   "source": [
    "Now let's compute the hash of a permit, so that Bob can sign it."
   ]
  },
  {
   "cell_type": "code",
   "execution_count": 40,
   "id": "530da9c2",
   "metadata": {},
   "outputs": [],
   "source": [
    "permit_hashed_type = {\n",
    "    'prim': 'pair',\n",
    "    'args': [\n",
    "        {\n",
    "            'prim': 'pair',\n",
    "            'args': [\n",
    "                {'prim': 'chain_id'},\n",
    "                {'prim': 'address'}\n",
    "            ]\n",
    "        },\n",
    "        {\n",
    "            'prim': 'pair',\n",
    "            'args': [\n",
    "                {'prim': 'int'},\n",
    "                {'prim': 'bytes'}\n",
    "            ]\n",
    "        }\n",
    "        \n",
    "    ]\n",
    "}"
   ]
  },
  {
   "cell_type": "code",
   "execution_count": 41,
   "id": "a79f19f2",
   "metadata": {},
   "outputs": [],
   "source": [
    "permit_hashed_args = [\n",
    "    [\n",
    "        {\"string\": nft_contract.shell.block()[\"chain_id\"]},\n",
    "        {\"string\": nft_contract.address}\n",
    "    ],\n",
    "    [\n",
    "        {\"int\": nft_contract.storage()[\"extension\"][\"counter\"]},\n",
    "        {\"bytes\": transfer_hash}\n",
    "    ]\n",
    "]"
   ]
  },
  {
   "cell_type": "code",
   "execution_count": 42,
   "id": "0fd176f7",
   "metadata": {},
   "outputs": [
    {
     "data": {
      "text/plain": [
       "'05070707070a0000000420560dfd0a00000016017645d51203cbbf6c7976b8704f32c7529f07a60000070700000a0000002001daf816bbb41ad32bd70ba3bcbe492ddb2559af95c6530c819aa8b97a09e300'"
      ]
     },
     "execution_count": 42,
     "metadata": {},
     "output_type": "execute_result"
    }
   ],
   "source": [
    "matcher2 = MichelsonType.match(permit_hashed_type)\n",
    "permit_hash = matcher2.from_micheline_value(permit_hashed_args).pack()\n",
    "permit_hash.hex()"
   ]
  },
  {
   "cell_type": "markdown",
   "id": "ffc87ebb",
   "metadata": {},
   "source": [
    "Bob also needs to sign this hash."
   ]
  },
  {
   "cell_type": "code",
   "execution_count": 43,
   "id": "d45d0285",
   "metadata": {},
   "outputs": [],
   "source": [
    "bob_permit_signature = bob.key.sign(permit_hash)"
   ]
  },
  {
   "cell_type": "markdown",
   "id": "a6eab13c",
   "metadata": {},
   "source": [
    "The admin (or anyone else) can then send the permit to the contract."
   ]
  },
  {
   "cell_type": "code",
   "execution_count": 44,
   "id": "03cb9f0a",
   "metadata": {},
   "outputs": [],
   "source": [
    "_ = nft_contract.permit([(\n",
    "    bob.key.public_key(),\n",
    "    bob_permit_signature,\n",
    "    transfer_hash\n",
    ")]).send(min_confirmations=1)"
   ]
  },
  {
   "cell_type": "markdown",
   "id": "00fafa9b",
   "metadata": {},
   "source": [
    "Let's check that the permit has correctly been stored:"
   ]
  },
  {
   "cell_type": "code",
   "execution_count": 46,
   "id": "e2e00b9f",
   "metadata": {},
   "outputs": [
    {
     "data": {
      "text/plain": [
       "{'extension': {'admin': 'tz1VSUr8wwNhLAzempoch5d6hLRiTh8Cjcjb',\n",
       "  'counter': 1,\n",
       "  'default_expiry': 3600,\n",
       "  'extension': 4,\n",
       "  'max_expiry': 3600,\n",
       "  'permit_expiries': 5,\n",
       "  'permits': 6,\n",
       "  'user_expiries': 7},\n",
       " 'ledger': 8,\n",
       " 'metadata': 9,\n",
       " 'operators': 10,\n",
       " 'token_metadata': 11}"
      ]
     },
     "execution_count": 46,
     "metadata": {},
     "output_type": "execute_result"
    }
   ],
   "source": [
    "nft_contract.storage()  # The counter has been incremented"
   ]
  },
  {
   "cell_type": "code",
   "execution_count": 47,
   "id": "b1f46905",
   "metadata": {},
   "outputs": [
    {
     "data": {
      "text/plain": [
       "1692610229"
      ]
     },
     "execution_count": 47,
     "metadata": {},
     "output_type": "execute_result"
    }
   ],
   "source": [
    "# and the hash of the transfer has been stored in the `permits` big map\n",
    "nft_contract.storage[\"extension\"][\"permits\"][(\n",
    "    bob.key.public_key_hash(),\n",
    "    transfer_hash\n",
    ")]()"
   ]
  },
  {
   "cell_type": "markdown",
   "id": "57bdbc5d",
   "metadata": {},
   "source": [
    "Of course a direct transfer fails because bob still has no tez…"
   ]
  },
  {
   "cell_type": "code",
   "execution_count": 53,
   "id": "8e501a82",
   "metadata": {},
   "outputs": [
    {
     "name": "stdout",
     "output_type": "stream",
     "text": [
      "Bob cannot call the contract because he has no tez!\n",
      "({'id': 'proto.017-PtNairob.implicit.empty_implicit_contract',\n",
      "  'implicit': 'tz1RMQ4Afx4ZsjKJT7H9y13WgXwAKUhdUdku',\n",
      "  'kind': 'branch'},)\n"
     ]
    }
   ],
   "source": [
    "try:\n",
    "    _ = bob_nft_contract.transfer([{\n",
    "        \"from_\": bob.key.public_key_hash(),\n",
    "        \"txs\": [{\n",
    "            \"to_\": admin.key.public_key_hash(),\n",
    "            \"token_id\": 1,\n",
    "            \"amount\": 1\n",
    "        }]\n",
    "    }]).send(min_confirmations=1)\n",
    "except ptz.rpc.errors.RpcError as exc:\n",
    "    print(\"Bob cannot call the contract because he has no tez!\")\n",
    "    print(exc)"
   ]
  },
  {
   "cell_type": "markdown",
   "id": "de357002",
   "metadata": {},
   "source": [
    "And the admin cannot just steal the NFT:"
   ]
  },
  {
   "cell_type": "code",
   "execution_count": 56,
   "id": "56a76e83",
   "metadata": {},
   "outputs": [
    {
     "name": "stdout",
     "output_type": "stream",
     "text": [
      "The admin is not allowed to steal the tokens!\n",
      "({'id': 'proto.017-PtNairob.michelson_v1.script_rejected',\n",
      "  'kind': 'temporary',\n",
      "  'location': 1544,\n",
      "  'with': {'string': 'FA2_NOT_OPERATOR'}},)\n"
     ]
    }
   ],
   "source": [
    "try:\n",
    "    _ = nft_contract.transfer([{\n",
    "        \"from_\": bob.key.public_key_hash(),\n",
    "        \"txs\": [{\n",
    "            \"to_\": admin.key.public_key_hash(),\n",
    "            \"token_id\": 0,\n",
    "            \"amount\": 10\n",
    "        }]\n",
    "    }]).send(min_confirmations=1)\n",
    "except ptz.rpc.errors.MichelsonError as exc:\n",
    "    print(\"The admin is not allowed to steal the tokens!\")\n",
    "    print(exc)"
   ]
  },
  {
   "cell_type": "markdown",
   "id": "5e3c43ac",
   "metadata": {},
   "source": [
    "But admin can stake Bob's NFTs in the correct contract:"
   ]
  },
  {
   "cell_type": "code",
   "execution_count": 57,
   "id": "fe558912",
   "metadata": {},
   "outputs": [
    {
     "name": "stdout",
     "output_type": "stream",
     "text": [
      "<pytezos.operation.group.OperationGroup object at 0x7fab55e3a050>\n",
      "\n",
      "Properties\n",
      ".key\t\ttz1VSUr8wwNhLAzempoch5d6hLRiTh8Cjcjb\n",
      ".shell\t\t['http://localhost:20000']\n",
      ".block_id\thead\n",
      "\n",
      "Payload\n",
      "{'branch': 'BLSum22e4BftQfAiMJUz8vKW7gKu8nB6UcAwUjT4ZkDDyrHwobE',\n",
      " 'contents': [{'amount': '0',\n",
      "               'counter': '5',\n",
      "               'destination': 'KT1DsegtTF7FyJesKvZ9utJ5FAsfM1f43xQu',\n",
      "               'fee': '901',\n",
      "               'gas_limit': '5865',\n",
      "               'kind': 'transaction',\n",
      "               'parameters': {'entrypoint': 'stake',\n",
      "                              'value': {'args': [{'int': '10'},\n",
      "                                                 {'string': 'tz1RMQ4Afx4ZsjKJT7H9y13WgXwAKUhdUdku'}],\n",
      "                                        'prim': 'Pair'}},\n",
      "               'source': 'tz1VSUr8wwNhLAzempoch5d6hLRiTh8Cjcjb',\n",
      "               'storage_limit': '167'}],\n",
      " 'protocol': 'PtNairobiyssHuh87hEhfVBGCVrK3WnS8Z2FT4ymB5tAa4r1nQf',\n",
      " 'signature': 'sigRm4aRWM7vKhkiEUSJgui13RXQBb6SL1Ff9KBta87sXTHacEzSs36PPykvVAMhY1RZXNwEmG9Eue4UW2xz6k81BpPashvG'}\n",
      "\n",
      "Hash\n",
      "ooo2R4pgAGL3wySeD8dXztY7dT7Qu5nBS2eZwSR8kkqqLWRq1RF\n",
      ".activate_account()\n",
      ".autofill()\n",
      ".ballot()\n",
      ".binary_payload()\n",
      ".delegation()\n",
      ".double_baking_evidence()\n",
      ".double_endorsement_evidence()\n",
      ".endorsement()\n",
      ".endorsement_with_slot()\n",
      ".failing_noop()\n",
      ".fill()\n",
      ".forge()\n",
      ".hash()\n",
      ".inject()\n",
      ".json_payload()\n",
      ".message()\n",
      ".operation()\n",
      ".origination()\n",
      ".preapply()\n",
      ".proposals()\n",
      ".register_global_constant()\n",
      ".result()\n",
      ".reveal()\n",
      ".run()\n",
      ".run_operation()\n",
      ".seed_nonce_revelation()\n",
      ".send()\n",
      ".send_async()\n",
      ".sign()\n",
      ".transaction()\n"
     ]
    }
   ],
   "source": [
    "op = staking_contract.stake(10, bob.key.public_key_hash()).send(min_confirmations=1)\n",
    "print(op.contents)"
   ]
  },
  {
   "cell_type": "code",
   "execution_count": 61,
   "id": "ebe2729c",
   "metadata": {},
   "outputs": [
    {
     "data": {
      "text/plain": [
       "90"
      ]
     },
     "execution_count": 61,
     "metadata": {},
     "output_type": "execute_result"
    }
   ],
   "source": [
    "nft_contract.storage[\"ledger\"][(bob.key.public_key_hash(), 0)]()"
   ]
  },
  {
   "cell_type": "code",
   "execution_count": 62,
   "id": "17f1aa25",
   "metadata": {},
   "outputs": [
    {
     "data": {
      "text/plain": [
       "10"
      ]
     },
     "execution_count": 62,
     "metadata": {},
     "output_type": "execute_result"
    }
   ],
   "source": [
    "nft_contract.storage[\"ledger\"][(staking_address, 0)]()"
   ]
  },
  {
   "cell_type": "markdown",
   "id": "5fee3eb6",
   "metadata": {},
   "source": [
    "Finally, the admin cannot replay the staking once the permit has been used:"
   ]
  },
  {
   "cell_type": "code",
   "execution_count": 64,
   "id": "80b65234",
   "metadata": {},
   "outputs": [
    {
     "name": "stdout",
     "output_type": "stream",
     "text": [
      "Cannot stake twice without signing a new permit\n"
     ]
    }
   ],
   "source": [
    "try:\n",
    "    staking_contract.stake(10, bob.key.public_key_hash()).send(min_confirmations=1)\n",
    "except ptz.rpc.errors.MichelsonError:\n",
    "    print(\"Cannot stake twice without signing a new permit\")"
   ]
  },
  {
   "cell_type": "markdown",
   "id": "bcdbbf75",
   "metadata": {},
   "source": [
    "## Selling the NFT on objkt.com"
   ]
  },
  {
   "cell_type": "markdown",
   "id": "2c3e8007",
   "metadata": {},
   "source": [
    "TODO"
   ]
  },
  {
   "cell_type": "markdown",
   "id": "8d62aecc",
   "metadata": {},
   "source": [
    "# Appendix"
   ]
  },
  {
   "cell_type": "markdown",
   "id": "f366aeab",
   "metadata": {},
   "source": [
    "Here's the code for the staking contract."
   ]
  },
  {
   "cell_type": "code",
   "execution_count": 65,
   "id": "f4d591e3",
   "metadata": {},
   "outputs": [
    {
     "name": "stdout",
     "output_type": "stream",
     "text": [
      "#import \"permit-cameligo/src/main.mligo\" \"FA2\"\r\n",
      "\r\n",
      "type storage = {\r\n",
      "  nft_address: address;\r\n",
      "  staked: (address, nat) big_map;\r\n",
      "}\r\n",
      "\r\n",
      "(* We need to provide the address of the NFT's owner so that the transfer can be done by someone\r\n",
      " * else (we don't rely on Tezos.get_sender ()) *)\r\n",
      "\r\n",
      "[@entry]\r\n",
      "let stake (qty, sender: nat * address) (storage: storage): operation list * storage =\r\n",
      "  let staked = match Big_map.find_opt sender storage.staked with\r\n",
      "    | None -> Big_map.add sender qty storage.staked\r\n",
      "    | Some n -> Big_map.update sender (Some (n + qty)) storage.staked\r\n",
      "  in\r\n",
      "  let contract = match (Tezos.get_contract_opt storage.nft_address: FA2.parameter contract option) with\r\n",
      "    | None -> failwith \"Invalid NFT contract\"\r\n",
      "    | Some contract -> contract\r\n",
      "  in\r\n",
      "  let transfer = [{\r\n",
      "    from_ = sender;\r\n",
      "    txs = [{\r\n",
      "      to_ = Tezos.get_self_address ();\r\n",
      "      token_id = 0n;\r\n",
      "      amount = qty;\r\n",
      "    }]\r\n",
      "  }]\r\n",
      "  in\r\n",
      "  let op = Tezos.transaction (Transfer transfer: FA2.parameter) 0tez contract in\r\n",
      "  [op], { storage with staked=staked }\r\n",
      "\r\n",
      "[@entry]\r\n",
      "let unstake (_sender: address) (_storage: storage): operation list * storage =\r\n",
      "  failwith \"Not implemented\"\r\n"
     ]
    }
   ],
   "source": [
    "!cat staking-contract.mligo"
   ]
  },
  {
   "cell_type": "code",
   "execution_count": null,
   "id": "310d18af",
   "metadata": {},
   "outputs": [],
   "source": []
  }
 ],
 "metadata": {
  "kernelspec": {
   "display_name": "Python 3 (ipykernel)",
   "language": "python",
   "name": "python3"
  },
  "language_info": {
   "codemirror_mode": {
    "name": "ipython",
    "version": 3
   },
   "file_extension": ".py",
   "mimetype": "text/x-python",
   "name": "python",
   "nbconvert_exporter": "python",
   "pygments_lexer": "ipython3",
   "version": "3.11.4"
  }
 },
 "nbformat": 4,
 "nbformat_minor": 5
}
